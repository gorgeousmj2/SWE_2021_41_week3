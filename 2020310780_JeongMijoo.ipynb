{
  "nbformat": 4,
  "nbformat_minor": 0,
  "metadata": {
    "colab": {
      "provenance": []
    },
    "kernelspec": {
      "name": "python3",
      "display_name": "Python 3"
    },
    "language_info": {
      "name": "python"
    }
  },
  "cells": [
    {
      "cell_type": "code",
      "source": [
        "def isHappy(n):\n",
        "    N = int(n)\n",
        "    check =[]\n",
        "    while True:\n",
        "        a =0\n",
        "        for i in n:\n",
        "            a+=int(i)**2\n",
        "        n = a\n",
        "        if n == 1:\n",
        "            return 'True'\n",
        "        elif n in check:\n",
        "            return 'False'\n",
        "        check.append(n)\n",
        "        n = str(n)\n",
        "n=input()\n",
        "print(isHappy(n))"
      ],
      "metadata": {
        "colab": {
          "base_uri": "https://localhost:8080/"
        },
        "id": "CqMaaOtMXJcU",
        "outputId": "c75bdcf8-b000-484b-b326-c89326a77988"
      },
      "execution_count": 20,
      "outputs": [
        {
          "output_type": "stream",
          "name": "stdout",
          "text": [
            "19\n",
            "True\n"
          ]
        }
      ]
    }
  ]
}